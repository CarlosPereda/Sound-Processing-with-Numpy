{
  "cells": [
    {
      "cell_type": "markdown",
      "metadata": {
        "id": "_n0JJEmSsnLm"
      },
      "source": [
        "#### <u>**Imported Packages**</u>"
      ]
    },
    {
      "cell_type": "code",
      "execution_count": 63,
      "metadata": {
        "colab": {
          "base_uri": "https://localhost:8080/"
        },
        "id": "D2n41PfLxA2E",
        "outputId": "64a4cb6e-2f24-4401-a6a1-bf67c7532d9f"
      },
      "outputs": [
        {
          "name": "stdout",
          "output_type": "stream",
          "text": [
            "Requirement already satisfied: wavio in c:\\users\\carlos\\appdata\\local\\programs\\python\\python39\\lib\\site-packages (0.0.9)\n",
            "Requirement already satisfied: numpy>=1.19.0 in c:\\users\\carlos\\appdata\\local\\programs\\python\\python39\\lib\\site-packages (from wavio) (1.26.4)\n",
            "Note: you may need to restart the kernel to use updated packages.\n"
          ]
        }
      ],
      "source": [
        "%pip install wavio"
      ]
    },
    {
      "cell_type": "code",
      "execution_count": 64,
      "metadata": {
        "id": "5DLuajvQyoEh"
      },
      "outputs": [],
      "source": [
        "import wavio\n",
        "import numpy as np\n",
        "import matplotlib.pyplot as plt\n",
        "from scipy.io.wavfile import read, write\n",
        "import math\n",
        "import random\n",
        "import scipy.interpolate as interpolate\n",
        "from typing import List, Dict, Tuple"
      ]
    },
    {
      "cell_type": "markdown",
      "metadata": {
        "id": "9rlmW6vA03Q9"
      },
      "source": [
        "#### **<u>Type Hinting</u>**"
      ]
    },
    {
      "cell_type": "code",
      "execution_count": 6,
      "metadata": {
        "id": "6uABDgoAgzjZ"
      },
      "outputs": [],
      "source": [
        "Samp = int\n",
        "Sec = float\n",
        "Arr = np.ndarray"
      ]
    },
    {
      "cell_type": "markdown",
      "metadata": {
        "id": "7e24HI6GtHuA"
      },
      "source": [
        "#### <u>**Audio Processing**</u>"
      ]
    },
    {
      "cell_type": "code",
      "execution_count": 49,
      "metadata": {
        "id": "OzRS9CsKRzee"
      },
      "outputs": [],
      "source": [
        "class AudioProcessing:\n",
        "    def __init__(self, wav_file: str) -> None:\n",
        "        fr = wavio.read(wav_file)\n",
        "        self.data = fr.data\n",
        "        self.samp_rate = fr.rate\n",
        "        self.data_len = self.data.shape[0]\n",
        "\n",
        "\n",
        "    def cut_by_seconds(self, start: Sec, end: Sec) -> None:\n",
        "        self.update_data(self.data[start * self.samp_rate : end * self.samp_rate])\n",
        "        \n",
        "    def cut_by_samps(self, start: Samp, end: Samp) -> None:\n",
        "        self.update_data(self.data[start:end])\n",
        "\n",
        "    def reverse_data(self) -> None:\n",
        "        self.update_data(self.data[::-1])\n",
        "\n",
        "    def insert_glitch(self, start: Sec, dur: Sec, glitch_samps: Samp) -> None:\n",
        "        \"\"\"Insert a glitch in the specified second of a wav file extending the time of the file.\"\"\"\n",
        "        repeated_glitch_data = self.generate_glitch_from_prev_samps(start, dur, glitch_samps)\n",
        "\n",
        "        glitch_start: Samp = round(start * self.samp_rate)\n",
        "        glitched_data: Arr = np.insert(self.data, glitch_start, repeated_glitch_data, axis=0)\n",
        "\n",
        "        self.update_data(glitched_data)\n",
        "        #TODO\n",
        "        #Manage unbounded seconds errors (\"Can't select second {second} on a {duration} second audio\")\n",
        "        #Manage glitched_samps taken from the start (what is suposed to happen?).\n",
        "\n",
        "\n",
        "    def corrupt_with_glitch(self, start: Sec, dur: Sec, glitch_samps: Samp) -> None:\n",
        "        \"\"\"Corrupt a wav file with glitch that replaces the content at a specified second and\n",
        "        duration. If the glitch end surpasses the duration file, the wav will be extended.\"\"\"\n",
        "        repeated_glitch_data = self.generate_glitch_from_prev_samps(start, dur, glitch_samps)\n",
        "\n",
        "        glitch_start: Samp = round(start * self.samp_rate)\n",
        "        glitch_duration: Samp = round(dur * self.samp_rate)\n",
        "        glitch_end: Samp = glitch_start + glitch_duration\n",
        "\n",
        "        if self.data_len < glitch_end:\n",
        "            glitched_data = np.append(self.data[:glitch_start], repeated_glitch_data, axis=0)\n",
        "        else:\n",
        "            glitched_data = np.append(self.data[0:glitch_start], repeated_glitch_data, axis=0)\n",
        "            glitched_data = np.append(glitched_data[0:glitch_end], self.data[glitch_end:], axis=0)\n",
        "\n",
        "        self.update_data(glitched_data)\n",
        "\n",
        "\n",
        "    def scramble_data_by_bpm(self, bpm: int) -> None:\n",
        "        \"\"\"...\"\"\"\n",
        "        samples_per_piece: Samp = round((self.samp_rate * 60) / bpm)\n",
        "        reordered = self.scramble_pieces(samples_per_piece)\n",
        "        self.update_data(reordered)\n",
        "\n",
        "\n",
        "    def scramble_data_by_n_pieces(self, n_pieces: int) -> None:\n",
        "        \"\"\"Cut the data into several equal parts and reorder it randomly.\"\"\"\n",
        "        samples_per_piece: Samp = self.data_len//n_pieces\n",
        "        reordered = self.scramble_pieces(samples_per_piece)\n",
        "        self.update_data(reordered)\n",
        "\n",
        "\n",
        "    def add_noise(self, noise: int = 1000) -> None:\n",
        "        min_value = np.iinfo('int16').min\n",
        "        max_value = np.iinfo('int16').max\n",
        "\n",
        "        numbers = np.random.randint(0, 2, (self.data_len, 2), dtype='int32')\n",
        "        numbers[numbers==0] = -noise\n",
        "        numbers[numbers==1] = noise\n",
        "\n",
        "        processed = self.data + numbers\n",
        "\n",
        "        processed[processed>max_value] = processed[processed>max_value] - noise*2\n",
        "        processed[processed<min_value] = processed[processed<min_value] + noise*2\n",
        "        processed = processed.astype('int16')\n",
        "\n",
        "        self.update_data(processed)\n",
        "\n",
        "    def change_speed(self, rate: float) -> None:\n",
        "        \"\"\"Change speed and pitch of wav a file\"\"\"\n",
        "        left_channel_data = self.data[:, 0]\n",
        "        right_channel_data = self.data[:, 1]\n",
        "\n",
        "        samps = np.arange(0, self.data_len, 1)\n",
        "\n",
        "        left_channel_func = interpolate.interp1d(samps, left_channel_data, 'linear', fill_value='extrapolate')\n",
        "        right_channel_func = interpolate.interp1d(samps, right_channel_data, 'linear', fill_value='extrapolate')\n",
        "\n",
        "        new_samples = np.arange(0, self.data_len, rate)\n",
        "        new_left_channel_data = left_channel_func(new_samples).reshape(new_samples.shape[0],1)\n",
        "        new_right_channel_data = right_channel_func(new_samples).reshape(new_samples.shape[0],1)\n",
        "\n",
        "        processed = np.concatenate((new_left_channel_data, new_right_channel_data), axis=1)\n",
        "        processed = processed.astype('int16')\n",
        "\n",
        "        self.update_data(processed)\n",
        "\n",
        "\n",
        "    def scramble_pieces(self, samps_per_piece) -> Arr:\n",
        "        pieces_ordered: list[(Samp, Samp)] = self.cut_in_pieces(samps_per_piece)\n",
        "        pieces_shuffled: list[(Samp, Samp)] = list(pieces_ordered)\n",
        "        random.shuffle(pieces_shuffled)\n",
        "\n",
        "        reordered: Arr = np.zeros(shape=self.data.shape, dtype='int16')\n",
        "\n",
        "\n",
        "        for ordered, shuffled in zip(pieces_ordered, pieces_shuffled):\n",
        "            reordered[ordered[0]:ordered[1], :] = self.data[shuffled[0]:shuffled[1], :]\n",
        "\n",
        "        self.update_data(self.data)\n",
        "        return reordered\n",
        "\n",
        "\n",
        "    def change_left_right_channels(self, samps_per_piece):\n",
        "        # pieces_ordered: list[(Samp, Samp)] = self.cut_in_pieces(samps_per_piece)\n",
        "\n",
        "        processed: Arr = np.zeros(shape=self.data.shape, dtype='int16')\n",
        "\n",
        "        # for i, tup in enumerate(pieces_ordered):\n",
        "        #     if i%2 == 1:\n",
        "        #         processed[tup[0]:tup[1], 0] = self.data[tup[0]:tup[1], 1]\n",
        "        #         processed[tup[0]:tup[1], 1] = self.data[tup[0]:tup[1], 0]\n",
        "        #     else:\n",
        "        #         processed[tup[0]:tup[1], :] = self.data[tup[0]:tup[1], :]\n",
        "        # processed = self.data\n",
        "\n",
        "        b = (np.sin(np.linspace(0, 360, 22050) * np.pi / 180. ) + 1) / 4\n",
        "        b = np.tile(b, 460)[:self.data_len]\n",
        "        c = (np.sin(np.linspace(180, 540, 22050) * np.pi / 180. ) + 1) / 4\n",
        "        c = np.tile(c, 460)[:self.data_len]\n",
        "\n",
        "        processed[:, 0] = self.data[:, 0] * c + self.data[:, 1] * b\n",
        "        processed[:, 1] = self.data[:, 1] * c + self.data[:, 0] * b\n",
        "\n",
        "        processed[:, 0] = self.data[:, 0] - self.data[:, 1]\n",
        "        processed[:, 1] = self.data[:, 1] - self.data[:, 0]\n",
        "\n",
        "        processed = processed.astype('int16')\n",
        "\n",
        "        self.update_data(processed)\n",
        "\n",
        "\n",
        "        # print(processed[:, 0])\n",
        "        # self.update_data()\n",
        "\n",
        "    def generate_glitch_from_prev_samps(self, start: Sec, dur: Sec, glitch_samps: Samp) -> Arr:\n",
        "        \"\"\"Generate a glitch (loop) from the samples of a sound file starting at a specified\n",
        "        second and duration\"\"\"\n",
        "        glitch_start: Samp = round(start * self.samp_rate)\n",
        "        glitch_duration: Samp = round(dur * self.samp_rate)\n",
        "\n",
        "        glitch_data: Arr = self.data[glitch_start - glitch_samps : glitch_start]\n",
        "        n_repetitions: int = math.ceil(glitch_duration/glitch_data.shape[0])\n",
        "\n",
        "        repeated_glitch_data: Arr = np.tile(glitch_data, (n_repetitions, 1))\n",
        "        repeated_glitch_data: Arr = repeated_glitch_data[0:glitch_duration]\n",
        "\n",
        "        return repeated_glitch_data\n",
        "\n",
        "\n",
        "    def cut_in_pieces(self, samps_per_piece):\n",
        "        sample_cuts: list[Samp] = [samp_cut for samp_cut in range(0, self.data_len+1, samps_per_piece)]\n",
        "        n_pieces: int = len(sample_cuts)-1\n",
        "\n",
        "        pieces_ordered: list[(Samp, Samp)] = []\n",
        "        for i, elem in enumerate(sample_cuts):\n",
        "            if i+1 < len(sample_cuts):\n",
        "                pieces_ordered.append((elem, sample_cuts[i+1]))\n",
        "\n",
        "        return pieces_ordered\n",
        "\n",
        "\n",
        "    def update_data(self, new_data: Arr) -> None:\n",
        "        self.data = new_data\n",
        "        self.data_len = self.data.shape[0]\n",
        "\n",
        "\n",
        "    def plot_data(self):\n",
        "        \"\"\"Plots the left channel of a wav file.\"\"\"\n",
        "        _time = np.arange(len(self.data))/self.samp_rate\n",
        "\n",
        "        plt.figure(figsize=(8, 6), dpi=80)\n",
        "        plt.plot(_time, self.data[:, 0])\n",
        "        plt.xlabel(\"Seconds\")\n",
        "        plt.ylabel(\"Intensity\")\n",
        "        plt.show()\n",
        "\n",
        "\n",
        "    def get_info(self) -> None:\n",
        "        print(f\"duration in samples: {self.data_len}\")\n",
        "        print(f\"duration in seconds: {round(self.data_len / self.samp_rate, 3)}\")\n",
        "\n",
        "\n",
        "    def write_wav(self, name=\"output.wav\") -> None:\n",
        "        wavio.write(name, self.data, self.samp_rate)"
      ]
    },
    {
      "cell_type": "markdown",
      "metadata": {},
      "source": [
        "#### <u>**Main Program**</u>"
      ]
    },
    {
      "cell_type": "code",
      "execution_count": 62,
      "metadata": {
        "id": "dzEyj6gOKnSW"
      },
      "outputs": [
        {
          "name": "stdout",
          "output_type": "stream",
          "text": [
            "duration in samples: 551250\n",
            "duration in seconds: 12.5\n"
          ]
        }
      ],
      "source": [
        "if __name__ == \"__main__\":\n",
        "    file_name = \"Entry of the Gladiators (snippet).wav\" # write the wav file name between the quotes\n",
        "    # file_name = \"Entry of the Gladiators (extract).wav\" # write the wav file name between the quotes\n",
        "    WAV_FILE = AudioProcessing(\"resources/\" + file_name)\n",
        "    WAV_FILE.cut_by_seconds(10, 25)\n",
        "    WAV_FILE.change_speed(1.2)\n",
        "    WAV_FILE.corrupt_with_glitch(2.5, 0.3, 4500)\n",
        "    WAV_FILE.corrupt_with_glitch(3.2, 0.2, 3400)\n",
        "    WAV_FILE.corrupt_with_glitch(4.5, 0.2, 2000)\n",
        "    WAV_FILE.corrupt_with_glitch(6, 0.2, 2200)\n",
        "    WAV_FILE.corrupt_with_glitch(7.2, 0.4, 3200)\n",
        "    WAV_FILE.corrupt_with_glitch(8, 0.1, 3200)\n",
        "    WAV_FILE.corrupt_with_glitch(9, 3.2, 6200)\n",
        "    WAV_FILE.write_wav()\n",
        "    WAV_FILE.get_info()"
      ]
    }
  ],
  "metadata": {
    "colab": {
      "provenance": []
    },
    "kernelspec": {
      "display_name": "Python 3",
      "name": "python3"
    },
    "language_info": {
      "codemirror_mode": {
        "name": "ipython",
        "version": 3
      },
      "file_extension": ".py",
      "mimetype": "text/x-python",
      "name": "python",
      "nbconvert_exporter": "python",
      "pygments_lexer": "ipython3",
      "version": "3.9.11"
    }
  },
  "nbformat": 4,
  "nbformat_minor": 0
}
